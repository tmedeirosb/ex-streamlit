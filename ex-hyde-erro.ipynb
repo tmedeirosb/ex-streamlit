{
 "cells": [
  {
   "cell_type": "code",
   "execution_count": 10,
   "metadata": {},
   "outputs": [
    {
     "name": "stdout",
     "output_type": "stream",
     "text": [
      "Collecting qdrant_client\n",
      "  Downloading qdrant_client-1.9.0-py3-none-any.whl.metadata (9.5 kB)\n",
      "Collecting grpcio>=1.41.0 (from qdrant_client)\n",
      "  Downloading grpcio-1.63.0-cp39-cp39-macosx_10_9_universal2.whl.metadata (3.2 kB)\n",
      "Collecting grpcio-tools>=1.41.0 (from qdrant_client)\n",
      "  Downloading grpcio_tools-1.63.0-cp39-cp39-macosx_10_9_universal2.whl.metadata (5.3 kB)\n",
      "Requirement already satisfied: httpx>=0.20.0 in /Users/tmedeirosb/Desktop/DEV/ML/venvML/lib/python3.9/site-packages (from httpx[http2]>=0.20.0->qdrant_client) (0.27.0)\n",
      "Requirement already satisfied: numpy>=1.21 in /Users/tmedeirosb/Desktop/DEV/ML/venvML/lib/python3.9/site-packages (from qdrant_client) (1.26.4)\n",
      "Collecting portalocker<3.0.0,>=2.7.0 (from qdrant_client)\n",
      "  Downloading portalocker-2.8.2-py3-none-any.whl.metadata (8.5 kB)\n",
      "Requirement already satisfied: pydantic>=1.10.8 in /Users/tmedeirosb/Desktop/DEV/ML/venvML/lib/python3.9/site-packages (from qdrant_client) (2.7.1)\n",
      "Requirement already satisfied: urllib3<3,>=1.26.14 in /Users/tmedeirosb/Desktop/DEV/ML/venvML/lib/python3.9/site-packages (from qdrant_client) (2.2.1)\n",
      "Collecting protobuf<6.0dev,>=5.26.1 (from grpcio-tools>=1.41.0->qdrant_client)\n",
      "  Downloading protobuf-5.26.1-cp37-abi3-macosx_10_9_universal2.whl.metadata (592 bytes)\n",
      "Requirement already satisfied: setuptools in /Users/tmedeirosb/Desktop/DEV/ML/venvML/lib/python3.9/site-packages (from grpcio-tools>=1.41.0->qdrant_client) (58.0.4)\n",
      "Requirement already satisfied: anyio in /Users/tmedeirosb/Desktop/DEV/ML/venvML/lib/python3.9/site-packages (from httpx>=0.20.0->httpx[http2]>=0.20.0->qdrant_client) (4.3.0)\n",
      "Requirement already satisfied: certifi in /Users/tmedeirosb/Desktop/DEV/ML/venvML/lib/python3.9/site-packages (from httpx>=0.20.0->httpx[http2]>=0.20.0->qdrant_client) (2024.2.2)\n",
      "Requirement already satisfied: httpcore==1.* in /Users/tmedeirosb/Desktop/DEV/ML/venvML/lib/python3.9/site-packages (from httpx>=0.20.0->httpx[http2]>=0.20.0->qdrant_client) (1.0.5)\n",
      "Requirement already satisfied: idna in /Users/tmedeirosb/Desktop/DEV/ML/venvML/lib/python3.9/site-packages (from httpx>=0.20.0->httpx[http2]>=0.20.0->qdrant_client) (3.7)\n",
      "Requirement already satisfied: sniffio in /Users/tmedeirosb/Desktop/DEV/ML/venvML/lib/python3.9/site-packages (from httpx>=0.20.0->httpx[http2]>=0.20.0->qdrant_client) (1.3.1)\n",
      "Requirement already satisfied: h11<0.15,>=0.13 in /Users/tmedeirosb/Desktop/DEV/ML/venvML/lib/python3.9/site-packages (from httpcore==1.*->httpx>=0.20.0->httpx[http2]>=0.20.0->qdrant_client) (0.14.0)\n",
      "Collecting h2<5,>=3 (from httpx[http2]>=0.20.0->qdrant_client)\n",
      "  Downloading h2-4.1.0-py3-none-any.whl.metadata (3.6 kB)\n",
      "Requirement already satisfied: annotated-types>=0.4.0 in /Users/tmedeirosb/Desktop/DEV/ML/venvML/lib/python3.9/site-packages (from pydantic>=1.10.8->qdrant_client) (0.6.0)\n",
      "Requirement already satisfied: pydantic-core==2.18.2 in /Users/tmedeirosb/Desktop/DEV/ML/venvML/lib/python3.9/site-packages (from pydantic>=1.10.8->qdrant_client) (2.18.2)\n",
      "Requirement already satisfied: typing-extensions>=4.6.1 in /Users/tmedeirosb/Desktop/DEV/ML/venvML/lib/python3.9/site-packages (from pydantic>=1.10.8->qdrant_client) (4.11.0)\n",
      "Collecting hyperframe<7,>=6.0 (from h2<5,>=3->httpx[http2]>=0.20.0->qdrant_client)\n",
      "  Downloading hyperframe-6.0.1-py3-none-any.whl.metadata (2.7 kB)\n",
      "Collecting hpack<5,>=4.0 (from h2<5,>=3->httpx[http2]>=0.20.0->qdrant_client)\n",
      "  Downloading hpack-4.0.0-py3-none-any.whl.metadata (2.5 kB)\n",
      "Requirement already satisfied: exceptiongroup>=1.0.2 in /Users/tmedeirosb/Desktop/DEV/ML/venvML/lib/python3.9/site-packages (from anyio->httpx>=0.20.0->httpx[http2]>=0.20.0->qdrant_client) (1.2.1)\n",
      "Downloading qdrant_client-1.9.0-py3-none-any.whl (229 kB)\n",
      "\u001b[2K   \u001b[90m━━━━━━━━━━━━━━━━━━━━━━━━━━━━━━━━━━━━━━━━\u001b[0m \u001b[32m229.3/229.3 kB\u001b[0m \u001b[31m7.0 MB/s\u001b[0m eta \u001b[36m0:00:00\u001b[0m\n",
      "\u001b[?25hDownloading grpcio-1.63.0-cp39-cp39-macosx_10_9_universal2.whl (10.2 MB)\n",
      "\u001b[2K   \u001b[90m━━━━━━━━━━━━━━━━━━━━━━━━━━━━━━━━━━━━━━━━\u001b[0m \u001b[32m10.2/10.2 MB\u001b[0m \u001b[31m11.7 MB/s\u001b[0m eta \u001b[36m0:00:00\u001b[0m \u001b[36m0:00:01\u001b[0m\n",
      "\u001b[?25hDownloading grpcio_tools-1.63.0-cp39-cp39-macosx_10_9_universal2.whl (5.4 MB)\n",
      "\u001b[2K   \u001b[90m━━━━━━━━━━━━━━━━━━━━━━━━━━━━━━━━━━━━━━━━\u001b[0m \u001b[32m5.4/5.4 MB\u001b[0m \u001b[31m9.3 MB/s\u001b[0m eta \u001b[36m0:00:00\u001b[0m:00:01\u001b[0m00:01\u001b[0m\n",
      "\u001b[?25hDownloading portalocker-2.8.2-py3-none-any.whl (17 kB)\n",
      "Downloading h2-4.1.0-py3-none-any.whl (57 kB)\n",
      "\u001b[2K   \u001b[90m━━━━━━━━━━━━━━━━━━━━━━━━━━━━━━━━━━━━━━━━\u001b[0m \u001b[32m57.5/57.5 kB\u001b[0m \u001b[31m8.1 MB/s\u001b[0m eta \u001b[36m0:00:00\u001b[0m\n",
      "\u001b[?25hDownloading protobuf-5.26.1-cp37-abi3-macosx_10_9_universal2.whl (404 kB)\n",
      "\u001b[2K   \u001b[90m━━━━━━━━━━━━━━━━━━━━━━━━━━━━━━━━━━━━━━━━\u001b[0m \u001b[32m404.0/404.0 kB\u001b[0m \u001b[31m31.3 MB/s\u001b[0m eta \u001b[36m0:00:00\u001b[0m\n",
      "\u001b[?25hDownloading hpack-4.0.0-py3-none-any.whl (32 kB)\n",
      "Downloading hyperframe-6.0.1-py3-none-any.whl (12 kB)\n",
      "Installing collected packages: protobuf, portalocker, hyperframe, hpack, grpcio, h2, grpcio-tools, qdrant_client\n",
      "  Attempting uninstall: protobuf\n",
      "    Found existing installation: protobuf 4.25.3\n",
      "    Uninstalling protobuf-4.25.3:\n",
      "      Successfully uninstalled protobuf-4.25.3\n",
      "\u001b[31mERROR: pip's dependency resolver does not currently take into account all the packages that are installed. This behaviour is the source of the following dependency conflicts.\n",
      "streamlit 1.33.0 requires protobuf<5,>=3.20, but you have protobuf 5.26.1 which is incompatible.\u001b[0m\u001b[31m\n",
      "\u001b[0mSuccessfully installed grpcio-1.63.0 grpcio-tools-1.63.0 h2-4.1.0 hpack-4.0.0 hyperframe-6.0.1 portalocker-2.8.2 protobuf-5.26.1 qdrant_client-1.9.0\n"
     ]
    }
   ],
   "source": [
    "#!pip install llama_index\n",
    "#!pip show llama_index\n",
    "#!pip install qdrant_client\n"
   ]
  },
  {
   "cell_type": "code",
   "execution_count": 14,
   "metadata": {},
   "outputs": [],
   "source": [
    "from llama_index.core import (\n",
    "    SimpleDirectoryReader,\n",
    "    VectorStoreIndex,\n",
    "    StorageContext,\n",
    "    Settings,\n",
    "    get_response_synthesizer)\n",
    "from llama_index.core.query_engine import RetrieverQueryEngine, TransformQueryEngine\n",
    "from llama_index.core.node_parser import SentenceSplitter\n",
    "from llama_index.core.schema import TextNode, MetadataMode\n",
    "#from llama_index.vector_stores.qdrant import QdrantVectorStore\n",
    "#from llama_index.embeddings.ollama import OllamaEmbedding\n",
    "#from llama_index.llms.ollama import Ollama\n",
    "from llama_index.core.retrievers import VectorIndexRetriever\n",
    "from llama_index.core.indices.query.query_transform import HyDEQueryTransform\n",
    "import qdrant_client\n",
    "import logging"
   ]
  },
  {
   "cell_type": "code",
   "execution_count": null,
   "metadata": {},
   "outputs": [],
   "source": []
  }
 ],
 "metadata": {
  "kernelspec": {
   "display_name": "venvML",
   "language": "python",
   "name": "python3"
  },
  "language_info": {
   "codemirror_mode": {
    "name": "ipython",
    "version": 3
   },
   "file_extension": ".py",
   "mimetype": "text/x-python",
   "name": "python",
   "nbconvert_exporter": "python",
   "pygments_lexer": "ipython3",
   "version": "3.9.6"
  }
 },
 "nbformat": 4,
 "nbformat_minor": 2
}
